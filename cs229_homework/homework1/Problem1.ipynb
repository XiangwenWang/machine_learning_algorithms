{
 "cells": [
  {
   "cell_type": "code",
   "execution_count": 40,
   "metadata": {
    "scrolled": true
   },
   "outputs": [
    {
     "name": "stdout",
     "output_type": "stream",
     "text": [
      "Populating the interactive namespace from numpy and matplotlib\n"
     ]
    }
   ],
   "source": [
    "%pylab inline"
   ]
  },
  {
   "cell_type": "markdown",
   "metadata": {},
   "source": [
    "# Problem 1 "
   ]
  },
  {
   "cell_type": "code",
   "execution_count": 1,
   "metadata": {},
   "outputs": [],
   "source": [
    "import numpy as np\n",
    "import pandas as pd"
   ]
  },
  {
   "cell_type": "code",
   "execution_count": 89,
   "metadata": {},
   "outputs": [],
   "source": [
    "class LogisticRegression(object):\n",
    "    \n",
    "    default_tol = 1e-8  # solver tol\n",
    "    _exp_lim = 40  # exp overflow range\n",
    "\n",
    "    def __init__(self, tol=default_tol,\n",
    "                 random_state=None):\n",
    "        self.tol = tol\n",
    "        if random_state is not None:\n",
    "            np.random.seed(random_state)\n",
    "        \n",
    "    def fit(self, X, y):\n",
    "        X_train = self.transform(X, fit=True)\n",
    "        y_train = np.array(y)\n",
    "        self.n_params = len(X_train[0])  # include intercept\n",
    "        self.beta = self.newton_optimize(X_train, y_train)\n",
    "    \n",
    "    def exp_ybx(self, X_train, y_train, beta):\n",
    "        return np.exp(- y_train * np.sum(beta * X_train, axis=1))\n",
    "    \n",
    "    def loss(self, X_train, y_train, beta):\n",
    "        return np.sum(1 + self.exp_ybx(X_train, y_train, beta))\n",
    "        \n",
    "    def newton_optimize(self, X_train, y_train):\n",
    "        beta, start, J = np.zeros(self.n_params), True, None\n",
    "        print(beta)\n",
    "        while True:\n",
    "            H, dJ = [], []\n",
    "            w = self.exp_ybx(X_train, y_train, beta) / (1 + self.exp_ybx(X_train, y_train, beta))\n",
    "            for i in range(self.n_params):\n",
    "                dJi = np.sum(w * (-y_train * X_train[:, i]))\n",
    "                Hi = []\n",
    "                for j in range(self.n_params):\n",
    "                    Hij = np.sum((w - w**2) * X_train[:, i] * X_train[:, j])\n",
    "                    Hi.append(Hij)\n",
    "                H.append(Hi)\n",
    "                dJ.append(dJi)\n",
    "            H, dJ = np.array(H), np.array(dJ)\n",
    "            H_1 = self.matrix_inverse(H)\n",
    "            beta -= np.dot(H_1, dJ)\n",
    "            print(beta)\n",
    "            curr_J = self.loss(X_train, y_train, beta)\n",
    "            if not start:\n",
    "                if J - curr_J < self.tol:\n",
    "                    break\n",
    "            else:\n",
    "                start = False\n",
    "            J = curr_J\n",
    "        return beta\n",
    "    \n",
    "    def matrix_inverse(self, H):\n",
    "        if len(H) == 3:\n",
    "            return self.matrix_inverse_3d(H)\n",
    "        return np.linalg.inv(H)\n",
    "    \n",
    "    def matrix_inverse_3d(self, H):\n",
    "        det = H[0, 0] * H[1, 1] * H[2, 2] + H[0, 1] * H[1, 2] * H[2, 0] + H[1, 0] * H[2, 1] * H[0, 2]\n",
    "        det -= H[0, 2] * H[1, 1] * H[2, 0] + H[0, 1] * H[1, 0] * H[2, 2] + H[0, 0] * H[1, 2] * H[2, 1]\n",
    "        other = {0: (1, 2), 1: (0, 2), 2: (0, 1)}\n",
    "        H_1 = []\n",
    "        for i in other:\n",
    "            H_1_i = []\n",
    "            for j in other:\n",
    "                H_1_i.append((H[other[i][0], other[j][0]] * H[other[i][1], other[j][1]] -\n",
    "                             H[other[i][1], other[j][0]] * H[other[i][0], other[j][1]]) *\n",
    "                             (-1) ** (i + j))\n",
    "            H_1.append(H_1_i)\n",
    "        H_1 = np.array(H_1)\n",
    "        return H_1 / det\n",
    "\n",
    "    def transform(self, X, fit=True, standardize=False):\n",
    "        X = np.array(X)\n",
    "        if standardize:\n",
    "            if fit:\n",
    "                self.X_mean = X.mean(axis=0)\n",
    "                self.X_std = X.std(axis=0)\n",
    "                if 0. in self.X_std:\n",
    "                    raise ZeroDivisionError('Please remove the column with identical values')\n",
    "            X = (X - self.X_mean) / self.X_std\n",
    "        return np.hstack([np.ones(len(X)).reshape(len(X), 1), X])"
   ]
  },
  {
   "cell_type": "code",
   "execution_count": 90,
   "metadata": {},
   "outputs": [],
   "source": [
    "X_train = pd.read_fwf('logistic_x.txt', header=None, names=['x1', 'x2'])\n",
    "y_train = pd.read_fwf('logistic_y.txt', header=None, names=['y'])"
   ]
  },
  {
   "cell_type": "code",
   "execution_count": 91,
   "metadata": {},
   "outputs": [
    {
     "name": "stdout",
     "output_type": "stream",
     "text": [
      "[0. 0. 0.]\n",
      "[-1.50983811  0.43509696  0.62161752]\n",
      "[-2.21834632  0.64372727  0.95944716]\n"
     ]
    }
   ],
   "source": [
    "lr = LogisticRegression()\n",
    "lr.fit(X_train.values, y_train.y.values)"
   ]
  },
  {
   "cell_type": "code",
   "execution_count": 92,
   "metadata": {},
   "outputs": [
    {
     "data": {
      "text/plain": [
       "array([-2.21834632,  0.64372727,  0.95944716])"
      ]
     },
     "execution_count": 92,
     "metadata": {},
     "output_type": "execute_result"
    }
   ],
   "source": [
    "lr.beta"
   ]
  },
  {
   "cell_type": "code",
   "execution_count": 93,
   "metadata": {},
   "outputs": [
    {
     "data": {
      "image/png": "[encoded data removed]",
      "text/plain": [
       "<Figure size 576x432 with 1 Axes>"
      ]
     },
     "metadata": {
      "needs_background": "light"
     },
     "output_type": "display_data"
    }
   ],
   "source": [
    "figure(figsize=(8, 6))\n",
    "scatter(X_train[y_train.y == 1]['x1'], X_train[y_train.y == 1]['x2'], label='1')\n",
    "scatter(X_train[y_train.y == -1]['x1'], X_train[y_train.y == -1]['x2'], label='-1')\n",
    "legend(fontsize=15)\n",
    "plot(np.array([X_train.x1.min(), X_train.x1.max()]),\n",
    "     [-(lr.beta[0] + lr.beta[1] * x) / lr.beta[2] for x in np.array([X_train.x1.min(), X_train.x1.max()])],\n",
    "    linewidth=3, color='r', linestyle='--')\n",
    "xlabel(r'$x_1$', size=20)\n",
    "ylabel(r'$x_2$', size=20)\n",
    "show()"
   ]
  },
  {
   "cell_type": "code",
   "execution_count": null,
   "metadata": {},
   "outputs": [],
   "source": []
  }
 ],
 "metadata": {
  "kernelspec": {
   "display_name": "Python 3",
   "language": "python",
   "name": "python3"
  },
  "language_info": {
   "codemirror_mode": {
    "name": "ipython",
    "version": 3
   },
   "file_extension": ".py",
   "mimetype": "text/x-python",
   "name": "python",
   "nbconvert_exporter": "python",
   "pygments_lexer": "ipython3",
   "version": "3.7.6"
  }
 },
 "nbformat": 4,
 "nbformat_minor": 4
}
