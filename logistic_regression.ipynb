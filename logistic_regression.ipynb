{
 "cells": [
  {
   "cell_type": "markdown",
   "metadata": {},
   "source": [
    "### Code"
   ]
  },
  {
   "cell_type": "code",
   "execution_count": 1,
   "metadata": {},
   "outputs": [],
   "source": [
    "import numpy as np\n",
    "from scipy.optimize import minimize\n",
    "\n",
    "\n",
    "class LogisticRegression(object):\n",
    "    \n",
    "    default_tol = 1e-6  # solver tol\n",
    "    default_penalty = 1.0  # coef of the regularization term\n",
    "    _exp_lim = 40  # exp overflow range\n",
    "\n",
    "    def __init__(self, tol=default_tol,\n",
    "                 standardize=True,\n",
    "                 regularization=None,\n",
    "                 penalty=default_penalty,\n",
    "                 random_state=None):\n",
    "        self.tol = tol\n",
    "        self.standardize = standardize\n",
    "        self.penalty = penalty\n",
    "        self.regularization = regularization\n",
    "        if random_state is not None:\n",
    "            np.random.seed(random_state)\n",
    "        \n",
    "    def fit(self, X, y):\n",
    "        X_train = self.transform(X, fit=True)\n",
    "        y_train = self.convert_y(y, how=\"to_binary\")\n",
    "        self.n_params = len(X_train[0])  # include intercept\n",
    "        beta_hat = minimize(self.loss,\n",
    "                            x0=np.zeros(self.n_params),\n",
    "                            method='BFGS',\n",
    "                            tol=self.tol,\n",
    "                            args=(X_train, y_train),\n",
    "                           )\n",
    "        self.beta = beta_hat.x\n",
    "    \n",
    "    def predict(self, X):\n",
    "        X_test = self.transform(X, fit=False)\n",
    "        Xbeta = (X_test * self.beta).sum(axis=1)\n",
    "        p = np.fromiter((1. / (1 + np.exp(-xb)) if xb < self._exp_lim and xb > - self._exp_lim\n",
    "                         else 1 if xb >= self._exp_lim\n",
    "                         else 0 for xb in Xbeta), dtype=float)\n",
    "        y_test = (p >= 0.5).astype(int)\n",
    "        return self.convert_y(y_test, how=\"from_binary\")\n",
    "        \n",
    "    def loss(self, beta, X_train, y_train):\n",
    "        beta = np.array(beta)\n",
    "        Xbeta = (X_train * beta).sum(axis=1)\n",
    "        loglikelihood_p1 = (Xbeta * y_train).sum()\n",
    "        # loglikelihood_p2 = -np.log(1 + np.exp(Xbeta)).sum()\n",
    "        # may need to approx to avoid overflow\n",
    "        loglikelihood_p2 = -np.sum(np.fromiter((np.log(1 + np.exp(xb)) if xb < self._exp_lim and xb > - self._exp_lim / 2\n",
    "                                               else xb if xb >= self._exp_lim\n",
    "                                               else np.exp(xb)\n",
    "                                               for xb in Xbeta), dtype=float))\n",
    "        loss = - loglikelihood_p1 - loglikelihood_p2\n",
    "        if self.regularization == 'l1':\n",
    "            loss += self.penalty * np.sum(np.abs(beta))\n",
    "        elif self.regularization == 'l2':\n",
    "            loss += self.penalty * np.sum(beta ** 2)\n",
    "        return loss\n",
    "    \n",
    "    def transform(self, X, fit=True):\n",
    "        X = np.array(X)\n",
    "        if self.standardize:\n",
    "            if fit:\n",
    "                self.X_mean = X.mean(axis=0)\n",
    "                self.X_std = X.std(axis=0)\n",
    "                if 0. in self.X_std:\n",
    "                    raise ZeroDivisionError('Please remove the column with identical values')\n",
    "            X = (X - self.X_mean) / self.X_std\n",
    "        return np.hstack([np.ones(len(X)).reshape(len(X), 1), X])\n",
    "        \n",
    "        \n",
    "    def convert_y(self, y, how='to_binary'):\n",
    "        if how == 'to_binary':\n",
    "            self.levels = list(set(y))\n",
    "            return np.array([0 if yi == self.levels[0] else 1 for yi in y])\n",
    "        elif how == 'from_binary':\n",
    "            return np.array([self.levels[yi] for yi in y])\n",
    "        else:\n",
    "            raise ValueError('argument \"how\" received an invalid string')"
   ]
  },
  {
   "cell_type": "markdown",
   "metadata": {},
   "source": [
    "### Comparison with sklearn.linear_model.LogisticRegression"
   ]
  },
  {
   "cell_type": "markdown",
   "metadata": {},
   "source": [
    "#### prepare data"
   ]
  },
  {
   "cell_type": "code",
   "execution_count": 2,
   "metadata": {},
   "outputs": [],
   "source": [
    "import pandas as pd\n",
    "np.random.seed(271828)\n",
    "\n",
    "df = pd.read_csv('test_data/iris.csv')\n",
    "df['species'] = (df.species == 'setosa').astype(int)\n",
    "df = df.sample(frac=1).reset_index(drop=True)\n",
    "train_x, test_x = df[:len(df)//2], df[len(df)//2:]\n",
    "train_y, test_y = train_x.pop('species'), test_x.pop('species')"
   ]
  },
  {
   "cell_type": "markdown",
   "metadata": {},
   "source": [
    "#### our implementation"
   ]
  },
  {
   "cell_type": "code",
   "execution_count": 3,
   "metadata": {},
   "outputs": [
    {
     "data": {
      "text/plain": [
       "(1.0, array([-0.28580334, -0.25264217,  0.26168977, -0.36024665, -0.33702623]))"
      ]
     },
     "execution_count": 3,
     "metadata": {},
     "output_type": "execute_result"
    }
   ],
   "source": [
    "lr1 = LogisticRegression(regularization='l2', penalty=20, random_state=314159)\n",
    "lr1.fit(train_x, train_y)\n",
    "1. * (lr1.predict(test_x) == test_y).sum() / len(test_y), lr1.beta"
   ]
  },
  {
   "cell_type": "markdown",
   "metadata": {},
   "source": [
    "#### sklearn result"
   ]
  },
  {
   "cell_type": "code",
   "execution_count": 4,
   "metadata": {
    "scrolled": true
   },
   "outputs": [
    {
     "data": {
      "text/plain": [
       "(1.0,\n",
       " array([6.39932254]),\n",
       " array([[-0.45979489,  0.64929543, -1.99067379, -0.76921295]]))"
      ]
     },
     "execution_count": 4,
     "metadata": {},
     "output_type": "execute_result"
    }
   ],
   "source": [
    "from sklearn.linear_model import LogisticRegression as sklearnLogisticRegression\n",
    "\n",
    "lr0 = sklearnLogisticRegression(fit_intercept=True, penalty='l2', C=1)  # not standardized\n",
    "lr0.fit(train_x, train_y)\n",
    "pred_y0 = lr0.predict(test_x)\n",
    "1. * (lr0.predict(test_x) == test_y).sum() / len(test_y), lr0.intercept_, lr0.coef_"
   ]
  }
 ],
 "metadata": {
  "kernelspec": {
   "display_name": "Python 3",
   "language": "python",
   "name": "python3"
  },
  "language_info": {
   "codemirror_mode": {
    "name": "ipython",
    "version": 3
   },
   "file_extension": ".py",
   "mimetype": "text/x-python",
   "name": "python",
   "nbconvert_exporter": "python",
   "pygments_lexer": "ipython3",
   "version": "3.6.10"
  }
 },
 "nbformat": 4,
 "nbformat_minor": 4
}
